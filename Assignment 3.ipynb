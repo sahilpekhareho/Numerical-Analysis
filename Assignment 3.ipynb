{
 "cells": [
  {
   "cell_type": "markdown",
   "id": "3a3a30a8",
   "metadata": {},
   "source": [
    "#                               Assignment 3 24100003 "
   ]
  },
  {
   "cell_type": "markdown",
   "id": "cfdf0d9e",
   "metadata": {},
   "source": [
    "# Problem 1"
   ]
  },
  {
   "cell_type": "markdown",
   "id": "e3a9c342",
   "metadata": {},
   "source": [
    "We know that $A v_i=\\lambda_i v_i$\n",
    "We can also write this as:\n",
    "\\begin{equation}\n",
    "AV=\\Lambda V\n",
    "\\end{equation}\n",
    "Where $V$ is the matrix of eigenvectors of  A stacked in order of decreasing eigenvalues and, $\\Lambda$ is the diagonal matrix of eigenvalues of A.\n",
    "\\begin{equation}\n",
    "V^{-1}AV=\\Lambda\n",
    "\\end{equation}\n",
    "We can take the determinant on both of the sides.\n",
    "\\begin{equation}\n",
    "|V^{-1}AV|=|\\Lambda|\\\\\n",
    "|V^{-1}| \\times |V| \\times |A| = |\\Lambda|\n",
    "\\end{equation}\n",
    "We know that $|V^{-1}|=\\frac{1}{|V|}$ and that the determinant of a diagonal matrix is just the product of its diagonal enteries.\n",
    "\\begin{equation}\n",
    "|A|=\\Pi_{j=0}^n \\Lambda_{jj}\\\\\n",
    "|A|=\\Pi_{j=0}^n \\lambda_{j}\n",
    "\\end{equation}"
   ]
  },
  {
   "cell_type": "markdown",
   "id": "5ed64599",
   "metadata": {},
   "source": [
    "# Problem 2\n",
    "\n",
    "Let's take 2 upper triangular square matirces $A,B$ of dimensions $n\\times n$:\n",
    "\\begin{align}\n",
    "\\begin{pmatrix}\n",
    "A_{00} && A_{01} && A_{02} &&\\cdots &&A_{0n} \\\\\n",
    "0 && A_{11} && A_{12}&& \\cdots &&A_{1n} \\\\\n",
    "\\vdots && 0 && A_{22} && \\cdots && A_{2n}\\\\\n",
    "\\vdots  && \\vdots && \\vdots&& \\ddots&&\\vdots \\\\\n",
    "0 && 0 && 0&&0&& A_{nn}\n",
    "\\end{pmatrix}\n",
    "\\begin{pmatrix}\n",
    "B_{00} && B_{01} && B_{02} &&\\cdots &&B_{0n} \\\\\n",
    "0 && B_{11} && B_{12}&& \\cdots &&B_{1n} \\\\\n",
    "\\vdots && 0 && B_{22} && \\cdots && B_{2n}\\\\\n",
    "\\vdots  && \\vdots && \\vdots&& \\ddots &&\\vdots \\\\\n",
    "0 && 0 && 0&&0&& B_{nn}\n",
    "\\end{pmatrix}\n",
    "\\end{align}\n",
    "\n"
   ]
  },
  {
   "cell_type": "markdown",
   "id": "fae5552f",
   "metadata": {},
   "source": [
    "Lets' write the matrix multiplication in terms of components:\n",
    "\\begin{align}\n",
    "C=A \\times B \\\\\n",
    "C_{ij}=\\sum_{k=0}^{k=n}A_{ik}B_{kj}\n",
    "\\end{align}"
   ]
  },
  {
   "cell_type": "markdown",
   "id": "a3a16c90",
   "metadata": {},
   "source": [
    "if we choose an i, we have the constraint that all $A_{ik}=0$ if $k<i$ and for j , all $B_{kj}=0$ if $k>j$,since the matrices are upper triangular.\n",
    "\n",
    "Which makes the equation above, rest of the products are just zero :\n",
    "\\begin{align}\n",
    "C_{ij}=\\sum_{k=i}^{k=j}A_{ik}B_{kj}\n",
    "\\end{align}"
   ]
  },
  {
   "cell_type": "markdown",
   "id": "6c498ca3",
   "metadata": {},
   "source": [
    "Let's apply the criteria for upper triangular matrix. let's choose an $i$ and see if for all $j<i$ ,$C_{ij}=0$\n",
    "We can see that if we take $j<i$ our summation becomes invalid in which case its zero, hence it is an upper triangular matrix.\n",
    "\n",
    "Similarly if we fix a j and take $i>j$ our summation again becomes invalid for which the sum was zero.\n",
    "\n",
    "Hence, the matrix C is and upper triangular matrix."
   ]
  },
  {
   "cell_type": "markdown",
   "id": "de3fe268",
   "metadata": {},
   "source": [
    "part b)\n",
    "\n",
    "let's take two orthogonal matrices $A$ and $B$.\n",
    "\n",
    "\\begin{align}\n",
    "C=A B \\\\\n",
    "C^{-1}=B^{-1}A^{-1}\\\\\n",
    "C^{-1} = B^{T}A^{T} =C^{T}\n",
    "\\end{align}"
   ]
  },
  {
   "cell_type": "markdown",
   "id": "de268b66",
   "metadata": {},
   "source": [
    "# Problem 3\n",
    "\n",
    "Let's take perturbed problem:\n",
    "\\begin{align}\n",
    "A(x+\\Delta x)=b+\\Delta b\\\\\n",
    "A\\Delta x =\\Delta b \\\\\n",
    "\\Delta x = A^{-1} \\Delta b\\\\\n",
    "\\end{align}\n",
    "let's take the norm on each side:\n",
    "\\begin{align}\n",
    "||\\Delta x||=||A^{-1} \\Delta b||\n",
    "\\end{align}\n",
    "and now lets divide each side with $||x||$\n",
    "\\begin{align}\n",
    "\\frac{||\\Delta x||}{||x||}=\\frac{||A^{-1} \\Delta b||}{||A^{-1} b||}\\\\\n",
    "\\frac{||\\Delta x||}{||x||} \\leq \\frac{||A^{-1} || \\times||\\Delta b||}{||A^{-1} b||}\\\\\n",
    "\\kappa=\\frac{||A^{-1}||}{||A^{-1} b||}\n",
    "\\end{align}\n"
   ]
  },
  {
   "cell_type": "markdown",
   "id": "a2623681",
   "metadata": {},
   "source": [
    "# Problem 4  \n",
    "\n",
    "\n",
    "LU Decomposition"
   ]
  },
  {
   "cell_type": "code",
   "execution_count": 1,
   "id": "cb356bc2",
   "metadata": {},
   "outputs": [
    {
     "name": "stdout",
     "output_type": "stream",
     "text": [
      "[array([[  1. ,   2. ,   3. ,   4. ],\n",
      "       [  0. , -16. , -32. , -48. ],\n",
      "       [  0. ,   0. ,   2. ,   4. ],\n",
      "       [  0. ,   0. ,   0. ,  -5.8]]), array([[ 1.   ,  0.   ,  0.   ,  0.   ],\n",
      "       [15.   ,  1.   ,  0.   ,  0.   ],\n",
      "       [ 9.   ,  0.75 ,  1.   ,  0.   ],\n",
      "       [ 9.   ,  0.875,  3.   ,  1.   ]])]\n"
     ]
    },
    {
     "data": {
      "text/plain": [
       "array([[ 1. ,  2. ,  3. ,  4. ],\n",
       "       [15. , 14. , 13. , 12. ],\n",
       "       [ 9. ,  6. ,  5. ,  4. ],\n",
       "       [ 9. ,  4. ,  5. ,  0.2]])"
      ]
     },
     "execution_count": 1,
     "metadata": {},
     "output_type": "execute_result"
    }
   ],
   "source": [
    "import numpy as np\n",
    "from numpy import linalg as la\n",
    "def ludec(mat_t):\n",
    "    new_T=np.copy(mat_t)\n",
    "    UT=new_T.copy()\n",
    "    LT=np.identity(new_T.shape[0])\n",
    "    for j in range(new_T.shape[0]-1):\n",
    "        coefficient=0\n",
    "        for i in range(j+1,new_T.shape[0]):\n",
    "            coefficient=UT[i][j]/UT[j][j]\n",
    "            UT[i]-=coefficient*UT[j]\n",
    "            LT[i][j]=coefficient\n",
    "    return [UT,LT]\n",
    "matrix=np.array(([1.,2.,3.,4.],[15.,14.,13.,12.],[9.,6.,5.,4.],[9.,4.,5.,.2]))\n",
    "print(ludec(matrix))\n",
    "ludec(matrix)[1]@ludec(matrix)[0]"
   ]
  },
  {
   "cell_type": "markdown",
   "id": "0869870b",
   "metadata": {},
   "source": [
    "Euclidean Norm"
   ]
  },
  {
   "cell_type": "code",
   "execution_count": 2,
   "id": "e19fb786",
   "metadata": {},
   "outputs": [
    {
     "name": "stdout",
     "output_type": "stream",
     "text": [
      "32.31160782133876\n"
     ]
    }
   ],
   "source": [
    "def euclid(T):\n",
    "    norm =0\n",
    "    for rows in T:\n",
    "        for elements in rows:\n",
    "            norm+=elements**2\n",
    "    return np.sqrt(norm)\n",
    "print(euclid(matrix))"
   ]
  },
  {
   "cell_type": "markdown",
   "id": "84c377b3",
   "metadata": {},
   "source": [
    "infinity norm"
   ]
  },
  {
   "cell_type": "code",
   "execution_count": 3,
   "id": "0364dc8f",
   "metadata": {},
   "outputs": [
    {
     "data": {
      "text/plain": [
       "54.0"
      ]
     },
     "execution_count": 3,
     "metadata": {},
     "output_type": "execute_result"
    }
   ],
   "source": [
    "def inftnorm(T):\n",
    "    rowsum=[]\n",
    "    for rows in T:\n",
    "        summ=0\n",
    "        for elements in rows:\n",
    "            summ+=np.abs(elements)\n",
    "        rowsum.append(summ)\n",
    "    return max(rowsum)\n",
    "inftnorm(matrix)"
   ]
  },
  {
   "cell_type": "markdown",
   "id": "0075956d",
   "metadata": {},
   "source": [
    "# Problem 5\n",
    "\n",
    "Let's take that the left and right eigenvectors give different eigenvalues:\n",
    "\\begin{align}\n",
    "Ax_i=\\lambda_i x_i\\\\\n",
    "y_i^TA=\\mu_i y^T_i\n",
    "\\end{align}\n",
    "We can say that $\\mu_i$ are the eigenvalues of the transopose matrix.\n",
    "\\begin{gather}\n",
    "det(A-\\lambda I)=det(A^T-\\mu I)\\\\\n",
    "det(A-\\lambda I)=det(A^T-\\mu I^T)\\\\\n",
    "det(A-\\lambda I) = det(A-\\mu I)^T\\\\\n",
    "\\lambda=\\mu\n",
    "\\end{gather}\n"
   ]
  },
  {
   "cell_type": "markdown",
   "id": "8965498f",
   "metadata": {},
   "source": [
    "# Problem 6\n",
    "\n",
    "For a matrix that is sensitive to perturbations in a linear system of equations has a large condition number i.e:\n",
    "\\begin{align}\n",
    "\\kappa=||A||||A^{-1}||\n",
    "\\end{align}\n",
    "For it to have sensitive eigenvalues, the eigenvalue condition number requires their left and right eigenvectors to be close to orthogonal:\n",
    "\\begin{align}\n",
    "\\kappa^{\\lambda_i}=\\frac{1}{|u_i^Tv_I|}\n",
    "\\end{align}\n",
    "\n",
    "for the eigenvectors to be senstive, you need atleast  2 eigenvalues to be close or the left and right eigenvectors to be orthogonal.\n",
    "\n",
    "The matrix can not be symmetric, it is preferrable that the norm of its inverse is not very small. let's make an upper triangular matrix that has close eigenvalues."
   ]
  },
  {
   "cell_type": "code",
   "execution_count": 4,
   "id": "9d3d0090",
   "metadata": {},
   "outputs": [
    {
     "data": {
      "text/plain": [
       "92.21624909128354"
      ]
     },
     "execution_count": 4,
     "metadata": {},
     "output_type": "execute_result"
    }
   ],
   "source": [
    "matrix_A = np.array([[1,2,5],[0,1.50001,9],[0,0,1.1]])\n",
    "la.norm(matrix_A)*la.norm(la.inv(matrix_A))"
   ]
  },
  {
   "cell_type": "code",
   "execution_count": 5,
   "id": "d6c27f4d",
   "metadata": {},
   "outputs": [
    {
     "data": {
      "text/plain": [
       "(array([1.     , 1.50001, 1.1    ]),\n",
       " array([[ 1.        ,  0.97014136, -0.99841859],\n",
       "        [ 0.        ,  0.24254019, -0.05616122],\n",
       "        [ 0.        ,  0.        ,  0.00249612]]))"
      ]
     },
     "execution_count": 5,
     "metadata": {},
     "output_type": "execute_result"
    }
   ],
   "source": [
    "la.eig(matrix_A)"
   ]
  },
  {
   "cell_type": "code",
   "execution_count": 6,
   "id": "6ce42ee5",
   "metadata": {},
   "outputs": [
    {
     "data": {
      "text/plain": [
       "(array([1.1    , 1.50001, 1.     ]),\n",
       " array([[ 0.        ,  0.        ,  0.0032256 ],\n",
       "        [ 0.        ,  0.04440172, -0.01290213],\n",
       "        [ 1.        ,  0.99901376,  0.99991156]]))"
      ]
     },
     "execution_count": 6,
     "metadata": {},
     "output_type": "execute_result"
    }
   ],
   "source": [
    "la.eig(np.transpose(matrix_A))"
   ]
  },
  {
   "cell_type": "markdown",
   "id": "efba7334",
   "metadata": {},
   "source": [
    "We can see that eigenvectors corresponding to eigenvalue = 1.01 are close to orthogonal , the condition number is also high and hence the matrix :\n",
    "\\begin{equation}\n",
    "\\begin{pmatrix}\n",
    "1 && 2 && 5 \\\\\n",
    "0 && 1.5 && 9 \\\\\n",
    "0 && 0 && 1.1\n",
    "\\end{pmatrix}\n",
    "\\end{equation}\n",
    "is highly sensitive to all three cases."
   ]
  },
  {
   "cell_type": "markdown",
   "id": "b0c0ddec",
   "metadata": {},
   "source": [
    "# Problem 7\n",
    "\n",
    "We know that $AA^{-1}=I$\n",
    "We can break the problem into the matrix A, being multiplied with a column vector $v_i$ such that it gives the coordinate basis vector $e_i$. All such vectors stacked together will form the inverse matrix.\n",
    "\\begin{equation}\n",
    "Av_i=e_i\\\\\n",
    "L(Uv_I)=e_i\\\\\n",
    "Ly=e_i\\\\\n",
    "Uv_i=e_i\n",
    "\\end{equation}\n",
    "We can find y using forward substitution, and then using backward substitutions, the inverse matrix."
   ]
  },
  {
   "cell_type": "code",
   "execution_count": 45,
   "id": "384cec2c",
   "metadata": {},
   "outputs": [
    {
     "name": "stdout",
     "output_type": "stream",
     "text": [
      "      inverse through LU Decomposition\n",
      " [[ 2.50000000e-01 -2.50000000e-01  5.00000000e-01  1.11022302e-16]\n",
      " [-8.59913793e-01  4.50431034e-01 -4.82758621e-01 -1.72413793e-01]\n",
      " [ 2.19827586e-01  9.91379310e-02 -5.34482759e-01  3.44827586e-01]\n",
      " [ 4.52586207e-01 -2.37068966e-01  5.17241379e-01 -1.72413793e-01]] \n",
      "\n",
      "\n",
      "          Inverse through np.linalg\n",
      " [[ 2.50000000e-01 -2.50000000e-01  5.00000000e-01  6.66133815e-17]\n",
      " [-8.59913793e-01  4.50431034e-01 -4.82758621e-01 -1.72413793e-01]\n",
      " [ 2.19827586e-01  9.91379310e-02 -5.34482759e-01  3.44827586e-01]\n",
      " [ 4.52586207e-01 -2.37068966e-01  5.17241379e-01 -1.72413793e-01]]\n"
     ]
    }
   ],
   "source": [
    "def ludec(mat_t):\n",
    "    new_T=np.copy(mat_t)\n",
    "    UT=new_T.copy()\n",
    "    LT=np.identity(new_T.shape[0])\n",
    "    for j in range(new_T.shape[0]-1):\n",
    "        coefficient=0\n",
    "        for i in range(j+1,new_T.shape[0]):\n",
    "            coefficient=UT[i][j]/UT[j][j]\n",
    "            UT[i]-=coefficient*UT[j]\n",
    "            LT[i][j]=coefficient\n",
    "    return [UT,LT]\n",
    "def LTsol(Mat_T,b):\n",
    "    x=np.zeros(len(b))\n",
    "    for i in range (len(b)):\n",
    "        par_sum_x=0\n",
    "        for j in range (i):\n",
    "            par_sum_x+=Mat_T[i][j]*x[j]\n",
    "        x[i]=b[i]-par_sum_x\n",
    "        x[i]/=Mat_T[i][i]\n",
    "    return x\n",
    "def UTsol (mat_T,b):\n",
    "    x=np.zeros(len(b))\n",
    "    for i in range (len(b)-1,-1,-1):\n",
    "        par_sum_x=0\n",
    "        for j in range(i+1,b.size):\n",
    "            par_sum_x+=mat_T[i][j]*x[j]\n",
    "        x[i]=(b[i]-par_sum_x)/mat_T[i][i]\n",
    "    return x\n",
    "def inv(mat_T):\n",
    "    A=ludec(mat_T)\n",
    "    I=np.identity(mat_T.shape[1])\n",
    "    B=[]\n",
    "    A_inv=[]\n",
    "    for cols in I:\n",
    "        B.append(LTsol(A[1],cols))\n",
    "    for col in B:\n",
    "        A_inv.append(UTsol(A[0],col))\n",
    "    return np.array(A_inv).transpose()\n",
    "print(\"      inverse through LU Decomposition\\n\",inv(matrix),\"\\n\\n\\n\",\"         Inverse through np.linalg\\n\",la.inv(matrix))"
   ]
  },
  {
   "cell_type": "code",
   "execution_count": 46,
   "id": "0b6f21c1",
   "metadata": {},
   "outputs": [
    {
     "data": {
      "text/plain": [
       "[array([[  1. ,   2. ,   3. ,   4. ],\n",
       "        [  0. , -16. , -32. , -48. ],\n",
       "        [  0. ,   0. ,   2. ,   4. ],\n",
       "        [  0. ,   0. ,   0. ,  -5.8]]),\n",
       " array([[ 1.   ,  0.   ,  0.   ,  0.   ],\n",
       "        [15.   ,  1.   ,  0.   ,  0.   ],\n",
       "        [ 9.   ,  0.75 ,  1.   ,  0.   ],\n",
       "        [ 9.   ,  0.875,  3.   ,  1.   ]])]"
      ]
     },
     "execution_count": 46,
     "metadata": {},
     "output_type": "execute_result"
    }
   ],
   "source": []
  },
  {
   "cell_type": "markdown",
   "id": "9287d0c9",
   "metadata": {},
   "source": [
    "Determinant:\n",
    "\\begin{equation}\n",
    "A=LU\\\\\n",
    "|A|=|LU|=|L||U|\n",
    "\\end{equation}\n",
    "We know that the determinant of a triangular matrix is just the product of its diagonals, furthermore, the diagonals of the L matrix are all 1's so we only need to multiply the diagonals of U matrix."
   ]
  },
  {
   "cell_type": "code",
   "execution_count": 8,
   "id": "d22ea9ea",
   "metadata": {},
   "outputs": [
    {
     "name": "stdout",
     "output_type": "stream",
     "text": [
      "Determinant through LU decompositon\n",
      "    42.0 \n",
      "\n",
      "\n",
      " \n",
      "Determinant through np.linalg\n",
      "    42.00000000000002\n"
     ]
    }
   ],
   "source": [
    "def det(mat_T):\n",
    "    A=np.diagonal(ludec(mat_T)[0])\n",
    "    det=1\n",
    "    for elements in A:\n",
    "        det*=elements\n",
    "    return det\n",
    "mat=np.array([[1.,2.,3.],[3.,1.,6.],[7.,8.,9.]])\n",
    "print(\"Determinant through LU decompositon\\n   \",det(mat),\"\\n\\n\\n\",\"\\nDeterminant through np.linalg\\n   \",la.det(mat))  "
   ]
  },
  {
   "cell_type": "markdown",
   "id": "c8afab1d",
   "metadata": {},
   "source": [
    "# Problem 8\n",
    "\n",
    "Let's say that the Dolittle's LU decomposition is not Unique i.e:\n",
    "\\begin{equation}\n",
    "A=LU=BT\\\\\n",
    "\\end{equation}\n",
    "Here $B$ is the bottom(lower) and $T$ is the Top(upper) triangular matrix.\n",
    "\\begin{equation}\n",
    "L=\\begin{pmatrix} 1 && 0 && 0 && \\cdots && 0 \\\\ L_{10} && 1 && 0&& \\cdots && 0 \\\\ L_{20} && L_{21} &&1 &&\\cdots&& 0 \\\\ \\vdots &&\\vdots&&\\vdots &&\\ddots &&\\vdots \\\\L_{n0} && L_{n1}&&L_{n2}&&\\cdots&&1 \\end{pmatrix}  U = \\begin{pmatrix}\n",
    "U_{00} && U_{01} && U_{02} &&\\cdots &&U_{0n} \\\\\n",
    "0 && U_{11} && U_{12}&& \\cdots &&U_{1n} \\\\\n",
    "\\vdots && 0 && U_{22} && \\cdots && U_{2n}\\\\\n",
    "\\vdots  && \\vdots && \\vdots&& \\ddots &&\\vdots \\\\\n",
    "0 && 0 && 0&&0&& U_{nn}\n",
    "\\end{pmatrix}\n",
    "\\end{equation}\n",
    "\\begin{equation}\n",
    "A_{ij}=\\sum_{k=0}^{k=n}L_{ik}U_{kj} =\\sum_{k=0}^{k=n}B_{ik}T_{kj} \n",
    "\\end{equation}\n"
   ]
  },
  {
   "cell_type": "markdown",
   "id": "4c096f52",
   "metadata": {},
   "source": [
    "For the lower triangular matrix, if you fix an $i$, all of the $k>i$ the components will be zero.\n",
    "Whereas, when you fix $j$ all of the elements $k>j$ will be zero.\n",
    "\\begin{equation}\n",
    "A_{ij}=\\sum_{k=0}^{k=min (i,j)}L_{ik}U_{kj} =\\sum_{k=0}^{k= min(i,j)}B_{ik}T_{kj} \\\\\n",
    "A_{0j}=\\sum_{k=0}^{k=j}L_{0k}U_{kj} =\\sum_{k=0}^{k= j}B_{0k}T_{kj} \\\\\n",
    "L_{0j}=B_{0j}=\\delta_{0j}\\\\\n",
    "A_{0j}=U_{0j}=T_{0j}\n",
    "\\end{equation}\n",
    "additionallly the first row of the $A$ matrix will be just $U_{00} =\\times L_{i0}$\n",
    "\\begin{gather}\n",
    "A_{i0}=U_{00}L_{i0}=U_{00}B_{i0}\\\\\n",
    "L_{i0}=B_{i0}\\\\\n",
    "\\end{gather}\n",
    "If we write the matrix multiplication in the component form, we will have:\n"
   ]
  },
  {
   "cell_type": "markdown",
   "id": "b1778b37",
   "metadata": {},
   "source": [
    "We can see that factoring U and T requires:\n",
    "\\begin{equation}\n",
    "U_{ij}=A_{ij}-\\sum_{k=0}^{j-1}L_{ik}U_{kj}\\\\\n",
    "L_{ij}=\\frac{U_{ij}}{U_{jj}}\\\\\n",
    "T_{ij}=A_{ij}-\\sum_{k=0}^{j-1}B_{ik}T_{kj}\\\\\n",
    "B_{ij}=\\frac{T_{ij}}{T_{jj}}\\\\\n",
    "\\end{equation}\n",
    "\n",
    "As we have shown the starting elements (rows and columns) are the same, the equations that will follow will include those elements in the same exact positons hence the $B=L$ and $U=T$"
   ]
  },
  {
   "cell_type": "markdown",
   "id": "423299f4",
   "metadata": {},
   "source": [
    "# Problem 9"
   ]
  },
  {
   "cell_type": "code",
   "execution_count": 48,
   "id": "081be3b0",
   "metadata": {},
   "outputs": [],
   "source": [
    "def ludec(mat_t):\n",
    "    new_T=np.copy(mat_t)\n",
    "    UT=new_T.copy()\n",
    "    LT=np.identity(new_T.shape[0])\n",
    "    p=0\n",
    "    for j in range(UT.shape[0]-1):\n",
    "        k = np.argmax(np.abs(UT[j:,j])) + j\n",
    "        if k != j:\n",
    "            p=p+1\n",
    "            UT[j,:], UT[k,:] = UT[k,:], UT[j,:].copy()\n",
    "        coefficient=0\n",
    "        for i in range(j+1,new_T.shape[0]):\n",
    "            coefficient=UT[i][j]/UT[j][j]\n",
    "            UT[i]-=coefficient*UT[j]\n",
    "            LT[i][j]=coefficient\n",
    "        A=np.diagonal(UT)\n",
    "        det=(-1)**(p)\n",
    "        for elements in A:\n",
    "            det*=elements\n",
    "    return [UT,LT,det]"
   ]
  },
  {
   "cell_type": "code",
   "execution_count": 49,
   "id": "12cefd83",
   "metadata": {},
   "outputs": [
    {
     "data": {
      "text/plain": [
       "[array([[15.        , 14.        , 13.        , 12.        ],\n",
       "        [ 0.        , -4.4       , -2.8       , -7.        ],\n",
       "        [ 0.        ,  0.        ,  1.45454545,  1.5030303 ],\n",
       "        [ 0.        ,  0.        ,  0.        ,  1.93333333]]),\n",
       " array([[ 1.        ,  0.        ,  0.        ,  0.        ],\n",
       "        [ 0.06666667,  1.        ,  0.        ,  0.        ],\n",
       "        [ 0.6       ,  0.54545455,  1.        ,  0.        ],\n",
       "        [ 0.6       , -0.24242424, -0.875     ,  1.        ]]),\n",
       " 185.6000000000001]"
      ]
     },
     "execution_count": 49,
     "metadata": {},
     "output_type": "execute_result"
    }
   ],
   "source": [
    "ludec(matrix)"
   ]
  },
  {
   "cell_type": "code",
   "execution_count": 42,
   "id": "7fe8c8d6",
   "metadata": {},
   "outputs": [
    {
     "data": {
      "text/plain": [
       "-2.0000000000000004"
      ]
     },
     "execution_count": 42,
     "metadata": {},
     "output_type": "execute_result"
    }
   ],
   "source": [
    "la.det(np.array([[1.,2.],[3.,4.]]))"
   ]
  },
  {
   "cell_type": "code",
   "execution_count": 66,
   "id": "8ce023bc",
   "metadata": {},
   "outputs": [
    {
     "name": "stdout",
     "output_type": "stream",
     "text": [
      "U:\n",
      "[[3.         4.        ]\n",
      " [0.         0.66666667]]\n",
      "L:\n",
      "[[1.         0.        ]\n",
      " [0.33333333 1.        ]]\n",
      "det: -2.0\n"
     ]
    }
   ],
   "source": [
    "import numpy as np\n",
    "\n",
    "def lu_pivot(A):\n",
    "    n = A.shape[0]\n",
    "    L = np.eye(n)\n",
    "    U = np.copy(A)\n",
    "    p = 0 # number of row interchanges\n",
    "    for j in range(n-1):\n",
    "        k = np.argmax(np.abs(U[j:,j])) + j\n",
    "        if k != j:\n",
    "            p=p+1\n",
    "            U[[j,k],:] = U[[k,j],:]\n",
    "            \n",
    "        for i in range(j+1, n):\n",
    "            coeff = U[i j]/U[j, j]\n",
    "            U[i]= U[i]- coeff * U[j, j:]\n",
    "            L[i, j] = coeff\n",
    "    \n",
    "    det = ((-1)**p)\n",
    "    for i in range(n):\n",
    "        det *= U[i,i]\n",
    "\n",
    "    \n",
    "    return L, U, det\n",
    "\n",
    "B = np.array([[1, 2], [3, 4]])\n",
    "L, U, det = lu_pivot(B)\n",
    "print(\"U:\")\n",
    "print(U)\n",
    "print(\"L:\")\n",
    "print(L)\n",
    "print(\"det:\",det)"
   ]
  },
  {
   "cell_type": "code",
   "execution_count": null,
   "id": "b135a067",
   "metadata": {},
   "outputs": [],
   "source": []
  }
 ],
 "metadata": {
  "kernelspec": {
   "display_name": "Python 3 (ipykernel)",
   "language": "python",
   "name": "python3"
  },
  "language_info": {
   "codemirror_mode": {
    "name": "ipython",
    "version": 3
   },
   "file_extension": ".py",
   "mimetype": "text/x-python",
   "name": "python",
   "nbconvert_exporter": "python",
   "pygments_lexer": "ipython3",
   "version": "3.9.12"
  }
 },
 "nbformat": 4,
 "nbformat_minor": 5
}
