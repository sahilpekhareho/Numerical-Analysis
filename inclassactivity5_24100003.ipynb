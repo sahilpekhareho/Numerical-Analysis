{
 "cells": [
  {
   "cell_type": "code",
   "execution_count": 3,
   "id": "24ff62d2",
   "metadata": {},
   "outputs": [],
   "source": [
    "import numpy as np\n",
    "def f(x):\n",
    "    return np.sin(x)-x\n",
    "def fprime(x):\n",
    "    return np.cos(x)-1\n",
    "\n",
    "def newtonsroots(f,fprime,xold,kmax=200,tol = 1.e-8):\n",
    "    for k in range (1,kmax):\n",
    "        xnew =xold - (f(xold)/fprime(xold))\n",
    "        print(\"{0:2d} {1:1.16f}\".format(k,xnew))\n",
    "        if (f(xnew)-0)<tol:\n",
    "            break\n",
    "        xold =xnew\n",
    "    else :\n",
    "        xnew = none\n",
    "    return xnew"
   ]
  },
  {
   "cell_type": "code",
   "execution_count": 13,
   "id": "180f6290",
   "metadata": {},
   "outputs": [
    {
     "name": "stdout",
     "output_type": "stream",
     "text": [
      " 1 0.0033333319444202\n"
     ]
    },
    {
     "data": {
      "text/plain": [
       "0.003333331944420157"
      ]
     },
     "execution_count": 13,
     "metadata": {},
     "output_type": "execute_result"
    }
   ],
   "source": [
    "newtonsroots(f,fprime,0.005)"
   ]
  },
  {
   "cell_type": "code",
   "execution_count": 14,
   "id": "5e6da1b2",
   "metadata": {},
   "outputs": [
    {
     "name": "stdout",
     "output_type": "stream",
     "text": [
      " 1 -0.0033333319444202\n"
     ]
    },
    {
     "data": {
      "text/plain": [
       "-0.003333331944420157"
      ]
     },
     "execution_count": 14,
     "metadata": {},
     "output_type": "execute_result"
    }
   ],
   "source": [
    "newtonsroots(f,fprime,-0.005)"
   ]
  },
  {
   "cell_type": "code",
   "execution_count": null,
   "id": "5758c489",
   "metadata": {},
   "outputs": [],
   "source": []
  }
 ],
 "metadata": {
  "kernelspec": {
   "display_name": "Python 3 (ipykernel)",
   "language": "python",
   "name": "python3"
  },
  "language_info": {
   "codemirror_mode": {
    "name": "ipython",
    "version": 3
   },
   "file_extension": ".py",
   "mimetype": "text/x-python",
   "name": "python",
   "nbconvert_exporter": "python",
   "pygments_lexer": "ipython3",
   "version": "3.9.12"
  }
 },
 "nbformat": 4,
 "nbformat_minor": 5
}
