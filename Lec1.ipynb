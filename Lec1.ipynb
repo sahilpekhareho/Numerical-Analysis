{
 "cells": [
  {
   "cell_type": "markdown",
   "id": "f0e9e42c",
   "metadata": {},
   "source": [
    "##lec1"
   ]
  },
  {
   "cell_type": "code",
   "execution_count": 4,
   "id": "8bc88528",
   "metadata": {},
   "outputs": [],
   "source": [
    "import numpy as np\n",
    "a=5\n",
    "b=3\n",
    "c=4\n",
    "s=0.5*(a+b+c)\n"
   ]
  },
  {
   "cell_type": "code",
   "execution_count": 5,
   "id": "7f741c6f",
   "metadata": {},
   "outputs": [
    {
     "name": "stdout",
     "output_type": "stream",
     "text": [
      "6.0\n"
     ]
    }
   ],
   "source": [
    "j= np.sqrt(s*(s-a)*(s-b)*(s-c))\n",
    "print (j)\n"
   ]
  },
  {
   "cell_type": "code",
   "execution_count": 10,
   "id": "7e814554",
   "metadata": {},
   "outputs": [
    {
     "data": {
      "text/plain": [
       "'curly brackets are place holders,They are displayed as: 0, and then 1'"
      ]
     },
     "execution_count": 10,
     "metadata": {},
     "output_type": "execute_result"
    }
   ],
   "source": [
    "'curly brackets are place holders,They are displayed as: {}, and then {}'.format(0,1,2)"
   ]
  },
  {
   "cell_type": "code",
   "execution_count": null,
   "id": "fc607b62",
   "metadata": {},
   "outputs": [],
   "source": []
  }
 ],
 "metadata": {
  "kernelspec": {
   "display_name": "Python 3 (ipykernel)",
   "language": "python",
   "name": "python3"
  },
  "language_info": {
   "codemirror_mode": {
    "name": "ipython",
    "version": 3
   },
   "file_extension": ".py",
   "mimetype": "text/x-python",
   "name": "python",
   "nbconvert_exporter": "python",
   "pygments_lexer": "ipython3",
   "version": "3.9.12"
  }
 },
 "nbformat": 4,
 "nbformat_minor": 5
}
