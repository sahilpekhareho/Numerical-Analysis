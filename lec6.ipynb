{
 "cells": [
  {
   "cell_type": "markdown",
   "id": "31e98bc4",
   "metadata": {},
   "source": [
    "Differentiation\n",
    "\n",
    "$f(x) ->$ Analytic differentiation. The first way is interpolation.Interpolation is basically using the best function that fits our data and then measuring the distance.\n",
    "\n",
    "Finite Difference Method: They largely depend on the Taylor series. Forward difference.\n",
    "\\begin{equation}\n",
    "\\frac{df}{dx}|_{x=x_0} = \\frac{f(x_0+h)-f(x_0)}{h}\n",
    "\\end{equation}\n",
    "bringing h very close to $x_0$ the answer becomes inaccurate as there is an approximation error as the value of the fuctions can be very close. Also Known as Catastrophic cancellation."
   ]
  },
  {
   "cell_type": "markdown",
   "id": "5887e960",
   "metadata": {},
   "source": [
    "Abs error -> $|\\Delta x|=|x_{est}-x|$. relative error: $|\\frac{\\Delta x}{x}|$\n"
   ]
  },
  {
   "cell_type": "code",
   "execution_count": null,
   "id": "8c5a9634",
   "metadata": {},
   "outputs": [],
   "source": []
  }
 ],
 "metadata": {
  "kernelspec": {
   "display_name": "Python 3 (ipykernel)",
   "language": "python",
   "name": "python3"
  },
  "language_info": {
   "codemirror_mode": {
    "name": "ipython",
    "version": 3
   },
   "file_extension": ".py",
   "mimetype": "text/x-python",
   "name": "python",
   "nbconvert_exporter": "python",
   "pygments_lexer": "ipython3",
   "version": "3.9.12"
  }
 },
 "nbformat": 4,
 "nbformat_minor": 5
}
