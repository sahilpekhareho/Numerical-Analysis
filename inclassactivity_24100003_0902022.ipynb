{
 "cells": [
  {
   "cell_type": "code",
   "execution_count": 35,
   "id": "f06f3ad1",
   "metadata": {},
   "outputs": [
    {
     "name": "stdout",
     "output_type": "stream",
     "text": [
      "[6, 6, 3, 8, 0, 0, 2, 2, 1, 0, 2, 5, 9, 4, 6, 4]\n",
      "[6, 3, 3, 7, 0, 0, 2, 4, 1, 0, 2, 1, 9, 8, 6, 8]\n",
      "number is valid\n"
     ]
    }
   ],
   "source": [
    "cardnum=\"4649520122008366\"\n",
    "list=[]\n",
    "for i in range(len(cardnum)-1,-1,-1):#reverses\n",
    "    list.append(cardnum[i])\n",
    "for i in range (0,len(list)):#converts to int\n",
    "    list[i]=int(list[i])\n",
    "print(list)\n",
    "for j in range (0,len(list)):#treats even\n",
    "    if (j+1)%2==0:\n",
    "        list[j]*=2\n",
    "        if list[j] >=10:\n",
    "            list[j]= int(list[j]/10)+list[j]%10\n",
    "print(list)\n",
    "if sum(list)%10==0:\n",
    "    print(\"number is valid\")\n",
    "else:\n",
    "    print(\"invalid number\")"
   ]
  },
  {
   "cell_type": "code",
   "execution_count": 65,
   "id": "0e8ff2bb",
   "metadata": {},
   "outputs": [
    {
     "name": "stdout",
     "output_type": "stream",
     "text": [
      "40320 9\n",
      "True\n"
     ]
    }
   ],
   "source": [
    "import math as m\n",
    "def fun(n):\n",
    "    num=m.factorial(n)\n",
    "    siz=str(num)\n",
    "    div=(num%10)\n",
    "    k=num/10\n",
    "    for i in range(0,len(siz)-1):\n",
    "        div+=int(siz[i]) \n",
    "    print(num,div)\n",
    "    if num%div==0:\n",
    "        return True\n",
    "    else:\n",
    "        return False\n",
    "print(fun(8))\n",
    "    \n",
    "    "
   ]
  },
  {
   "cell_type": "code",
   "execution_count": 66,
   "id": "49ba12bf",
   "metadata": {},
   "outputs": [],
   "source": [
    "def cross(v1=[1,1,1],v2=[1,1,1]):\n",
    "    cp=[]\n",
    "    cp[0]=v1[1]*v2[2]-v2[1]*v1[2]\n",
    "    cp[1]=-(v1[0]*v2[2]-v2[0]*v1[2])\n",
    "    cp[2]=v1[0]*v2[1]-v2[1]*v1[0]\n",
    "    return cp\n",
    "def dot(v1=[1,1,1],v2=[1,1,1]):\n",
    "    dp=[]\n",
    "    for i in range(len(v1)):\n",
    "        dp.append(v1[i]*v2[i])\n",
    "    return dp\n",
    "def tripdot(v1=[1,1,1],v2=[1,1,1],v3=[1,1,1]):\n",
    "    temp=cross(v2,v3)\n",
    "    td=dot(temp,v1)\n",
    "    return td\n",
    "def tripcross(v1=[1,1,1],v2=[1,1,1],v3=[1,1,1]):\n",
    "    temp=cross(v1,v2)\n",
    "    a=cross(v1,temp)\n",
    "    return temp"
   ]
  },
  {
   "cell_type": "code",
   "execution_count": null,
   "id": "4faca884",
   "metadata": {},
   "outputs": [],
   "source": []
  }
 ],
 "metadata": {
  "kernelspec": {
   "display_name": "Python 3 (ipykernel)",
   "language": "python",
   "name": "python3"
  },
  "language_info": {
   "codemirror_mode": {
    "name": "ipython",
    "version": 3
   },
   "file_extension": ".py",
   "mimetype": "text/x-python",
   "name": "python",
   "nbconvert_exporter": "python",
   "pygments_lexer": "ipython3",
   "version": "3.9.12"
  }
 },
 "nbformat": 4,
 "nbformat_minor": 5
}
