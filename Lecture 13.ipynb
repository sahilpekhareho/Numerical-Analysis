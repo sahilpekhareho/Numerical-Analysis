{
 "cells": [
  {
   "cell_type": "code",
   "execution_count": 2,
   "id": "c9ac4aee",
   "metadata": {},
   "outputs": [
    {
     "data": {
      "text/plain": [
       "array([ 2., -2.])"
      ]
     },
     "execution_count": 2,
     "metadata": {},
     "output_type": "execute_result"
    }
   ],
   "source": [
    "from numpy import linalg as la\n",
    "A=[[0.2161,0.1441],[1.2969,0.8648]]\n",
    "B=[0.1440,0.8642]\n",
    "la.solve(A,B)"
   ]
  },
  {
   "cell_type": "markdown",
   "id": "1fc30fb1",
   "metadata": {},
   "source": [
    "if we disturb one of the elements slightly. the solutions change drastically."
   ]
  },
  {
   "cell_type": "code",
   "execution_count": 4,
   "id": "4c56f280",
   "metadata": {},
   "outputs": [
    {
     "data": {
      "text/plain": [
       "array([-1.,  4.])"
      ]
     },
     "execution_count": 4,
     "metadata": {},
     "output_type": "execute_result"
    }
   ],
   "source": [
    "from numpy import linalg as la\n",
    "A=[[2.,1.],[1.,2.]]\n",
    "B=[2,7]\n",
    "la.solve(A,B)"
   ]
  },
  {
   "cell_type": "markdown",
   "id": "b2b8ab19",
   "metadata": {},
   "source": [
    "If we have a large system of equations, we would like to know before hand if our solutions are senstive or not. The first guess is that it may be dependent on the determinant. Let's check in the case of sensitive solutions, what were the determinants like? Let's look at the determinant of a sensitive solutions"
   ]
  },
  {
   "cell_type": "code",
   "execution_count": 6,
   "id": "c119257e",
   "metadata": {},
   "outputs": [
    {
     "data": {
      "text/plain": [
       "-9.999999998544968e-09"
      ]
     },
     "execution_count": 6,
     "metadata": {},
     "output_type": "execute_result"
    }
   ],
   "source": [
    "from numpy import linalg as la\n",
    "A=[[0.2161,0.1441],[1.2969,0.8648]]\n",
    "B=[0.1440,0.8642]\n",
    "la.solve(A,B)\n",
    "la.det(A)#The determinant is small in this case which makes us think that maybe we are correct in our guess"
   ]
  },
  {
   "cell_type": "code",
   "execution_count": 17,
   "id": "01364694",
   "metadata": {},
   "outputs": [
    {
     "data": {
      "text/plain": [
       "0.029900000000000013"
      ]
     },
     "execution_count": 17,
     "metadata": {},
     "output_type": "execute_result"
    }
   ],
   "source": [
    "import numpy as np\n",
    "A2=np.array([[0.2,0.101],[0.1,0.2]])\n",
    "B2=np.array([0.2,0.7])\n",
    "la.solve(A2,B2)\n",
    "la.det(A2)# the determinant is small in this case but the solutions are stable."
   ]
  },
  {
   "cell_type": "markdown",
   "id": "be1b601f",
   "metadata": {},
   "source": [
    "if we say that the solution becomes more sensitve than it is incorrect as if we divide the equations by 10 or 100 the senstivity of the solution remains the same hower the determinant goes down by a factor of $100$ or $10^3$"
   ]
  },
  {
   "cell_type": "markdown",
   "id": "48f15472",
   "metadata": {},
   "source": [
    "Euclidean Norm:\n",
    "\\begin{equation}\n",
    "||A||=\\sqrt{\\Sigma_{i=0}^{n-1}\\Sigma_{j=0}^{n-1}|A_{ij}^2|}\n",
    "\\end{equation}"
   ]
  },
  {
   "cell_type": "markdown",
   "id": "97192c68",
   "metadata": {},
   "source": [
    "Infinite Norm:\n",
    "\\begin{equation}\n",
    "||A||_\\infty = max_{0\\leq i \\leq n-1}[\\Sigma|A_{ij}|]\n",
    "\\end{equation}\n",
    "This is the largest sum of each row"
   ]
  },
  {
   "cell_type": "markdown",
   "id": "ad518792",
   "metadata": {},
   "source": [
    "What we want is that $||A||=||A^{-1}||$ to be small"
   ]
  },
  {
   "cell_type": "markdown",
   "id": "70c72dcc",
   "metadata": {},
   "source": [
    "\\begin{equation}\n",
    "||A||=0 \\leftrightarrow  |A_{ij}|=0\n",
    "\\end{equation}"
   ]
  },
  {
   "cell_type": "markdown",
   "id": "1a94f5d8",
   "metadata": {},
   "source": [
    "Hypothesis for non sensitive, $det(A)<<||A||$ "
   ]
  },
  {
   "cell_type": "code",
   "execution_count": 21,
   "id": "82042c19",
   "metadata": {},
   "outputs": [
    {
     "name": "stdout",
     "output_type": "stream",
     "text": [
      "1.5802824652573981\n",
      "-9.999999998544968e-09\n"
     ]
    }
   ],
   "source": [
    "print(la.norm(A))\n",
    "print(la.det(A))"
   ]
  },
  {
   "cell_type": "code",
   "execution_count": 59,
   "id": "1dd62e94",
   "metadata": {},
   "outputs": [
    {
     "name": "stdout",
     "output_type": "stream",
     "text": [
      "[[ 2. -2. -2. -2. -2. -2. -2. -2.]\n",
      " [ 0.  2. -2. -2. -2. -2. -2. -2.]\n",
      " [ 0.  0.  2. -2. -2. -2. -2. -2.]\n",
      " [ 0.  0.  0.  2. -2. -2. -2. -2.]\n",
      " [ 0.  0.  0.  0.  2. -2. -2. -2.]\n",
      " [ 0.  0.  0.  0.  0.  2. -2. -2.]\n",
      " [ 0.  0.  0.  0.  0.  0.  2. -2.]\n",
      " [ 0.  0.  0.  0.  0.  0.  0.  2.]] [[ 1]\n",
      " [-1]\n",
      " [ 1]\n",
      " [-1]\n",
      " [ 1]\n",
      " [-1]\n",
      " [ 1]\n",
      " [-1]]\n"
     ]
    },
    {
     "data": {
      "text/plain": [
       "array([[-21. ],\n",
       "       [-11. ],\n",
       "       [ -5. ],\n",
       "       [ -3. ],\n",
       "       [ -1. ],\n",
       "       [ -1. ],\n",
       "       [  0. ],\n",
       "       [ -0.5]])"
      ]
     },
     "execution_count": 59,
     "metadata": {},
     "output_type": "execute_result"
    }
   ],
   "source": [
    "upp_T=np.triu([-2,-2,-2,-2,-2,-2,-2,-2])\n",
    "#i=np.zeros(64).reshape(8,8)\n",
    "i=np.identity(8)\n",
    "i[0][0]=-1\n",
    "upp_T=upp_T+4*np.identity(8)\n",
    "#print(upp_T)\n",
    "b=np.array([1,-1]*4)\n",
    "b=b.reshape(8,1)\n",
    "print(upp_T,b)\n",
    "la.solve(upp_T,b)\n"
   ]
  },
  {
   "cell_type": "code",
   "execution_count": 66,
   "id": "ecc51d26",
   "metadata": {},
   "outputs": [
    {
     "data": {
      "text/plain": [
       "(array([7.31274213, 2.06663092, 0.13674761, 0.48387934]),\n",
       " array([[ 0.73319229, -0.50597951, -0.03552739,  0.08981592],\n",
       "        [ 0.63293   , -0.26114648,  0.22427524, -0.09580043],\n",
       "        [ 0.24559146,  0.599716  , -0.63638388, -0.45466534],\n",
       "        [ 0.03890408,  0.56225259,  0.73719331,  0.88092838]]))"
      ]
     },
     "execution_count": 66,
     "metadata": {},
     "output_type": "execute_result"
    }
   ],
   "source": [
    "k=np.array([[4,3,2,1],[3,3,2,1],[0,2,2,1],[0,0,1,1]])\n",
    "la.eig(k)"
   ]
  },
  {
   "cell_type": "code",
   "execution_count": 65,
   "id": "fdd4dfbb",
   "metadata": {},
   "outputs": [
    {
     "data": {
      "text/plain": [
       "(array([7.3129755 , 2.06287308, 0.12477715, 0.49937427]),\n",
       " array([[ 0.73322121, -0.50489056, -0.04175813,  0.09211235],\n",
       "        [ 0.63290497, -0.2628705 ,  0.23432976, -0.11006428],\n",
       "        [ 0.24557035,  0.59881226, -0.63967137, -0.44302653],\n",
       "        [ 0.0388993 ,  0.56339018,  0.73086686,  0.88494557]]))"
      ]
     },
     "execution_count": 65,
     "metadata": {},
     "output_type": "execute_result"
    }
   ],
   "source": [
    "k=np.array([[4,3,2,1.01],[3,3,2,1],[0,2,2,1],[0,0,1,1]])\n",
    "la.eig(k)"
   ]
  },
  {
   "cell_type": "code",
   "execution_count": null,
   "id": "897dd083",
   "metadata": {},
   "outputs": [],
   "source": []
  }
 ],
 "metadata": {
  "kernelspec": {
   "display_name": "Python 3 (ipykernel)",
   "language": "python",
   "name": "python3"
  },
  "language_info": {
   "codemirror_mode": {
    "name": "ipython",
    "version": 3
   },
   "file_extension": ".py",
   "mimetype": "text/x-python",
   "name": "python",
   "nbconvert_exporter": "python",
   "pygments_lexer": "ipython3",
   "version": "3.9.12"
  }
 },
 "nbformat": 4,
 "nbformat_minor": 5
}
