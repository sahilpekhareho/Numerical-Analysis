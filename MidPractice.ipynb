{
 "cells": [
  {
   "cell_type": "code",
   "execution_count": 1,
   "id": "fc553e28",
   "metadata": {},
   "outputs": [
    {
     "data": {
      "text/plain": [
       "4"
      ]
     },
     "execution_count": 1,
     "metadata": {},
     "output_type": "execute_result"
    }
   ],
   "source": [
    "import numpy as np\n",
    "from numpy import linalg as la\n",
    "mat_A=np.array(([8,0,0,0],[1,6,0,0],[5,6,4,0],[7,8,9,1]))\n",
    "b=np.array([1,2,3,4])\n",
    "la.norm(mat_A)*la.norm(la.inv(mat_A))\n",
    "mat_A.shape[1]\n"
   ]
  },
  {
   "cell_type": "code",
   "execution_count": 2,
   "id": "0a2d84c6",
   "metadata": {},
   "outputs": [
    {
     "name": "stdout",
     "output_type": "stream",
     "text": [
      "[ 0.75        0.33333333 -1.          3.        ]\n"
     ]
    },
    {
     "data": {
      "text/plain": [
       "array([ 0.75      ,  0.33333333, -1.        ,  3.        ])"
      ]
     },
     "execution_count": 2,
     "metadata": {},
     "output_type": "execute_result"
    }
   ],
   "source": [
    "def LTsol(Mat_T,b):\n",
    "    x=np.zeros(len(b))\n",
    "    for i in range (len(b)):\n",
    "        par_sum_x=0\n",
    "        for j in range (i):\n",
    "            par_sum_x+=Mat_T[i][j]*x[j]\n",
    "        x[i]=b[i]-par_sum_x\n",
    "        x[i]/=Mat_T[i][i]\n",
    "    return x\n",
    "def UTsol (mat_T,b):\n",
    "    x=np.zeros(len(b))\n",
    "    for i in range (len(b)-1,-1,-1):\n",
    "        par_sum_x=0\n",
    "        for j in range(i+1,b.size):\n",
    "            par_sum_x+=mat_T[i][j]*x[j]\n",
    "        x[i]=(b[i]-par_sum_x)/mat_T[i][i]\n",
    "    return x\n",
    "mat_k=np.triu([4,3,2,1])\n",
    "b=np.array([5,2,1,3])\n",
    "print(UTsol(mat_k,b))\n",
    "la.solve(mat_k,b)"
   ]
  },
  {
   "cell_type": "code",
   "execution_count": 3,
   "id": "c0cf306e",
   "metadata": {},
   "outputs": [
    {
     "data": {
      "text/plain": [
       "array([ 0.75      ,  0.33333333, -1.        ,  3.        ])"
      ]
     },
     "execution_count": 3,
     "metadata": {},
     "output_type": "execute_result"
    }
   ],
   "source": [
    "la.solve(mat_k,b)"
   ]
  },
  {
   "cell_type": "code",
   "execution_count": 4,
   "id": "cf553100",
   "metadata": {},
   "outputs": [
    {
     "name": "stdout",
     "output_type": "stream",
     "text": [
      "[-1.23148148  1.5         1.02777778  0.03703704]\n"
     ]
    },
    {
     "data": {
      "text/plain": [
       "array([-1.23148148,  1.5       ,  1.02777778,  0.03703704])"
      ]
     },
     "execution_count": 4,
     "metadata": {},
     "output_type": "execute_result"
    }
   ],
   "source": [
    "def GaussianElimination(mat_T,b):\n",
    "    new_T=mat_T.copy()\n",
    "    bnew=np.copy(b)\n",
    "    for j in range(len(b)-1):\n",
    "        coefficient=0\n",
    "        for i in range(j+1,len(b)):\n",
    "            coefficient=new_T[i][j]/new_T[j][j]\n",
    "            new_T[i]-=coefficient*new_T[j]\n",
    "            bnew[i]-=coefficient*bnew[j]\n",
    "    return [new_T,bnew]\n",
    "mat=np.array(([1.,2.,3.,4.],[4.,5.,6.,7.],[7.,4.,9.,10.],[7.,4.,9.,37.]))\n",
    "b=np.array([5.,9.,7.,8.])\n",
    "GaussianElimination(mat,b)\n",
    "print(la.solve(mat,b))\n",
    "j=UTsol(GaussianElimination(mat,b)[0],GaussianElimination(mat,b)[1])\n",
    "j"
   ]
  },
  {
   "cell_type": "code",
   "execution_count": 5,
   "id": "90d2ef40",
   "metadata": {},
   "outputs": [
    {
     "data": {
      "text/plain": [
       "[array([[  1. ,   2. ,   3. ,   4. ],\n",
       "        [  0. , -16. , -32. , -48. ],\n",
       "        [  0. ,   0. ,   2. ,   4. ],\n",
       "        [  0. ,   0. ,   0. ,  -5.8]]),\n",
       " array([[ 1.   ,  0.   ,  0.   ,  0.   ],\n",
       "        [15.   ,  1.   ,  0.   ,  0.   ],\n",
       "        [ 9.   ,  0.75 ,  1.   ,  0.   ],\n",
       "        [ 9.   ,  0.875,  3.   ,  1.   ]])]"
      ]
     },
     "execution_count": 5,
     "metadata": {},
     "output_type": "execute_result"
    }
   ],
   "source": [
    "def ludec(mat_t):\n",
    "    new_T=np.copy(mat_t)\n",
    "    UT=new_T.copy()\n",
    "    LT=np.identity(new_T.shape[0])\n",
    "    for j in range(len(b)-1):\n",
    "        coefficient=0\n",
    "        for i in range(j+1,len(b)):\n",
    "            coefficient=UT[i][j]/UT[j][j]\n",
    "            UT[i]-=coefficient*UT[j]\n",
    "            LT[i][j]=coefficient\n",
    "    return [UT,LT]\n",
    "matrix=np.array(([1.,2.,3.,4.],[15.,14.,13.,12.],[9.,6.,5.,4.],[9.,4.,5.,.2]))\n",
    "ludec(matrix)"
   ]
  },
  {
   "cell_type": "code",
   "execution_count": 10,
   "id": "028dcab0",
   "metadata": {},
   "outputs": [],
   "source": [
    "def GauElim(mat_T,b):\n",
    "    new_T=mat_T.copy()\n",
    "    bnew=np.copy(b)\n",
    "    for j in range(len(b)-1):\n",
    "        \n",
    "        k = np.argmax(np.abs(new_T[j:,j])) + j\n",
    "        if k != j:\n",
    "            new_T[j,:], new_T[k,:] = new_T[k,:], new_T[j,:].copy()\n",
    "            bnew[j], bnew[k] = bnew[k], bnew[j]\n",
    "        for i in range(j+1,len(b)):\n",
    "            coefficient=new_T[i][j]/new_T[j][j]\n",
    "            new_T[i]-=coefficient*new_T[j]\n",
    "            bnew[i]-=coefficient*bnew[j]\n",
    "    return [new_T,bnew]\n",
    "mat=np.array(([1.,2.,3.,4.],[15.,30.,13.,12.],[9.,6.,5.,4.],[9.,4.,5.,.2]))"
   ]
  },
  {
   "cell_type": "code",
   "execution_count": 11,
   "id": "0c3a5868",
   "metadata": {},
   "outputs": [
    {
     "data": {
      "text/plain": [
       "[array([[ 15.        ,  30.        ,  13.        ,  12.        ],\n",
       "        [  0.        , -14.        ,  -2.8       ,  -7.        ],\n",
       "        [  0.        ,   0.        ,   2.13333333,   3.2       ],\n",
       "        [  0.        ,   0.        ,   0.        ,   3.4       ]]),\n",
       " array([9.        , 2.6       , 4.4       , 0.19642857])]"
      ]
     },
     "execution_count": 11,
     "metadata": {},
     "output_type": "execute_result"
    }
   ],
   "source": [
    "GauElim(mat,b)"
   ]
  },
  {
   "cell_type": "code",
   "execution_count": 16,
   "id": "aead6605",
   "metadata": {},
   "outputs": [
    {
     "name": "stderr",
     "output_type": "stream",
     "text": [
      "C:\\Users\\danie\\AppData\\Local\\Temp\\ipykernel_15900\\3930226113.py:7: RuntimeWarning: divide by zero encountered in double_scalars\n",
      "  coefficient=new_T[i][j]/new_T[j][j]\n",
      "C:\\Users\\danie\\AppData\\Local\\Temp\\ipykernel_15900\\3930226113.py:8: RuntimeWarning: invalid value encountered in multiply\n",
      "  new_T[i]-=coefficient*new_T[j]\n",
      "C:\\Users\\danie\\AppData\\Local\\Temp\\ipykernel_15900\\3930226113.py:7: RuntimeWarning: invalid value encountered in double_scalars\n",
      "  coefficient=new_T[i][j]/new_T[j][j]\n"
     ]
    },
    {
     "data": {
      "text/plain": [
       "[array([[  1.,   2.,   3.,   4.],\n",
       "        [  0.,   0., -32., -48.],\n",
       "        [ nan,  nan, -inf, -inf],\n",
       "        [ nan,  nan,  nan,  nan]]),\n",
       " array([   8., -113.,  -inf,   nan])]"
      ]
     },
     "execution_count": 16,
     "metadata": {},
     "output_type": "execute_result"
    }
   ],
   "source": [
    "GaussianElimination(mat,b)"
   ]
  },
  {
   "cell_type": "code",
   "execution_count": 18,
   "id": "9524690c",
   "metadata": {},
   "outputs": [
    {
     "data": {
      "text/plain": [
       "array([[ 15.        ,  30.        ,  13.        ,  12.        ],\n",
       "       [  0.        , -14.        ,  -2.8       ,  -7.        ],\n",
       "       [  0.        ,   0.        ,   2.13333333,   3.2       ],\n",
       "       [  0.        ,   0.        ,   0.        ,   3.4       ]])"
      ]
     },
     "execution_count": 18,
     "metadata": {},
     "output_type": "execute_result"
    }
   ],
   "source": [
    "def gauelim_pivot(inA,inbs):\n",
    "    A = np.copy(inA)\n",
    "    bs = np.copy(inbs)\n",
    "    n = bs.size\n",
    "    for j in range(n-1):\n",
    "        k = np.argmax(np.abs(A[j:,j])) + j\n",
    "        if k != j:\n",
    "            A[j,:], A[k,:] = A[k,:], A[j,:].copy()\n",
    "            bs[j], bs[k] = bs[k], bs[j]\n",
    "        for i in range(j+1,n):\n",
    "            coeff = A[i,j]/A[j,j]\n",
    "            A[i,j:] -= coeff*A[j,j:]\n",
    "            bs[i] -= coeff*bs[j]\n",
    "    return A\n",
    "gauelim_pivot(mat,b)"
   ]
  },
  {
   "cell_type": "markdown",
   "id": "09efa6a6",
   "metadata": {},
   "source": [
    "Problem "
   ]
  }
 ],
 "metadata": {
  "kernelspec": {
   "display_name": "Python 3 (ipykernel)",
   "language": "python",
   "name": "python3"
  },
  "language_info": {
   "codemirror_mode": {
    "name": "ipython",
    "version": 3
   },
   "file_extension": ".py",
   "mimetype": "text/x-python",
   "name": "python",
   "nbconvert_exporter": "python",
   "pygments_lexer": "ipython3",
   "version": "3.9.12"
  }
 },
 "nbformat": 4,
 "nbformat_minor": 5
}
