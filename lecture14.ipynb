{
 "cells": [
  {
   "cell_type": "code",
   "execution_count": 1,
   "id": "baa87bea",
   "metadata": {},
   "outputs": [
    {
     "name": "stdout",
     "output_type": "stream",
     "text": [
      "(array([7.31274213, 2.06663092, 0.13674761, 0.48387934]), array([[ 0.73319229, -0.50597951, -0.03552739,  0.08981592],\n",
      "       [ 0.63293   , -0.26114648,  0.22427524, -0.09580043],\n",
      "       [ 0.24559146,  0.599716  , -0.63638388, -0.45466534],\n",
      "       [ 0.03890408,  0.56225259,  0.73719331,  0.88092838]]))\n",
      "(array([7.3129755 , 2.06287308, 0.12477715, 0.49937427]), array([[ 0.73322121, -0.50489056, -0.04175813,  0.09211235],\n",
      "       [ 0.63290497, -0.2628705 ,  0.23432976, -0.11006428],\n",
      "       [ 0.24557035,  0.59881226, -0.63967137, -0.44302653],\n",
      "       [ 0.0388993 ,  0.56339018,  0.73086686,  0.88494557]]))\n",
      "(array([4., 3., 2., 1.]), array([[ 1.        , -0.9701425 ,  0.88888889, -0.76429148],\n",
      "       [ 0.        ,  0.24253563, -0.44444444,  0.57321861],\n",
      "       [ 0.        ,  0.        ,  0.11111111, -0.28660931],\n",
      "       [ 0.        ,  0.        ,  0.        ,  0.07165233]]))\n",
      "(array([4.04884232, 0.95115768, 2.18205744, 2.81794256]), array([[ 0.99991899,  0.75725717, -0.90713923, -0.95891902],\n",
      "       [ 0.01220959, -0.57718943,  0.41228175,  0.28337434],\n",
      "       [ 0.00320148,  0.29564253, -0.0843057 , -0.0128976 ],\n",
      "       [ 0.00163983, -0.0775206 , -0.00383712, -0.00263737]]))\n"
     ]
    }
   ],
   "source": [
    "from numpy import linalg as la\n",
    "import numpy as np\n",
    "A=np.array([[4,3,2,1],[3,3,2,1],[0,2,2,1],[0,0,1,1]])\n",
    "A_perturbed = np.array([[4,3,2,1.01],[3,3,2,1],[0,2,2,1],[0,0,1,1]])\n",
    "B=np.array([[4,4,0,0],[0,3,4,0],[0,0,2,4],[0,0,0,1]])\n",
    "B_perturbed = np.array([[4,4,0,0],[0,3,4,0],[0,0,2,4],[0.005,0,0,1]])\n",
    "print(la.eig(A))\n",
    "print(la.eig(A_perturbed))\n",
    "print(la.eig(B))\n",
    "print(la.eig(B_perturbed))"
   ]
  },
  {
   "cell_type": "code",
   "execution_count": 3,
   "id": "6c3d051e",
   "metadata": {},
   "outputs": [
    {
     "name": "stdout",
     "output_type": "stream",
     "text": [
      "126.74383614203887\n",
      "40.129477943277564\n"
     ]
    }
   ],
   "source": [
    "condition_num_a=la.norm(A)*la.norm(la.inv(A))\n",
    "condition_num_b=la.norm(B)*la.norm(la.inv(B))\n",
    "print(condition_num_a)\n",
    "print(condition_num_b)"
   ]
  },
  {
   "cell_type": "markdown",
   "id": "6bbbf0ab",
   "metadata": {},
   "source": [
    "\\begin{equation}\n",
    "AV = \\lambda V \\\\\n",
    "(A + \\Delta A)(V_i + \\Delta V_i)=(\\lambda_i+\\Delta\\lambda_i)(V_i + \\Delta V_i)\\\\\n",
    "\\end{equation}\n"
   ]
  },
  {
   "cell_type": "code",
   "execution_count": null,
   "id": "e9333b88",
   "metadata": {},
   "outputs": [],
   "source": []
  }
 ],
 "metadata": {
  "kernelspec": {
   "display_name": "Python 3 (ipykernel)",
   "language": "python",
   "name": "python3"
  },
  "language_info": {
   "codemirror_mode": {
    "name": "ipython",
    "version": 3
   },
   "file_extension": ".py",
   "mimetype": "text/x-python",
   "name": "python",
   "nbconvert_exporter": "python",
   "pygments_lexer": "ipython3",
   "version": "3.9.12"
  }
 },
 "nbformat": 4,
 "nbformat_minor": 5
}
