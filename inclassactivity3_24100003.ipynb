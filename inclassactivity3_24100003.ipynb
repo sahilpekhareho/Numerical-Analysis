{
 "cells": [
  {
   "cell_type": "code",
   "execution_count": 9,
   "id": "23220355",
   "metadata": {},
   "outputs": [
    {
     "name": "stdout",
     "output_type": "stream",
     "text": [
      "Norm=  1.160434112735402     Determinant=  -0.005188179999999982\n",
      "Condition number=  259.5529318566442\n"
     ]
    },
    {
     "data": {
      "text/plain": [
       "array([ 3.33646867e-01, -7.70983274e-06])"
      ]
     },
     "execution_count": 9,
     "metadata": {},
     "output_type": "execute_result"
    }
   ],
   "source": [
    "import numpy as np\n",
    "from numpy import linalg as la\n",
    "mat_A = np.array(([0.8647,0.5766],[0.4322,0.2822]))\n",
    "\n",
    "vec_b=np.array([0.2885,0.1442])\n",
    "\n",
    "print(\"Norm= \",la.norm(mat_A),\"   \",\"Determinant= \",la.det(mat_A))\n",
    "mat_Ainv = la.inv(mat_A)\n",
    "print(\"Condition number= \",la.norm(mat_A)*la.norm(mat_Ainv))\n",
    "\n",
    "la.solve(mat_A,vec_b)"
   ]
  },
  {
   "cell_type": "code",
   "execution_count": 16,
   "id": "5fd8397e",
   "metadata": {},
   "outputs": [
    {
     "data": {
      "text/plain": [
       "array([ 0.42191234, -0.13518963])"
      ]
     },
     "execution_count": 16,
     "metadata": {},
     "output_type": "execute_result"
    }
   ],
   "source": [
    "pertrubed_A=mat_A = np.array(([0.8647+1/260,0.5766],[0.4322,0.2822]))\n",
    "la.solve(pertrubed_A,vec_b)"
   ]
  },
  {
   "cell_type": "code",
   "execution_count": null,
   "id": "39097c81",
   "metadata": {},
   "outputs": [],
   "source": []
  },
  {
   "cell_type": "code",
   "execution_count": null,
   "id": "5359eb58",
   "metadata": {},
   "outputs": [],
   "source": []
  },
  {
   "cell_type": "code",
   "execution_count": null,
   "id": "7e9dbfb6",
   "metadata": {},
   "outputs": [],
   "source": []
  }
 ],
 "metadata": {
  "kernelspec": {
   "display_name": "Python 3 (ipykernel)",
   "language": "python",
   "name": "python3"
  },
  "language_info": {
   "codemirror_mode": {
    "name": "ipython",
    "version": 3
   },
   "file_extension": ".py",
   "mimetype": "text/x-python",
   "name": "python",
   "nbconvert_exporter": "python",
   "pygments_lexer": "ipython3",
   "version": "3.9.12"
  }
 },
 "nbformat": 4,
 "nbformat_minor": 5
}
