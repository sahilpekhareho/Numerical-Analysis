{
 "cells": [
  {
   "cell_type": "markdown",
   "id": "dfd867fc",
   "metadata": {},
   "source": [
    "# Part 1\n",
    "\\begin{gather}\n",
    "Ax=b\\\\\n",
    "A = QR \\\\\n",
    "QRx=b\\\\\n",
    "Rx=Q^{-1}b\\\\\n",
    "Q^{-1}=Q^T\\\\\n",
    "Rx=Q^Tb\n",
    "\\end{gather}"
   ]
  },
  {
   "cell_type": "markdown",
   "id": "f4745b94",
   "metadata": {},
   "source": [
    "# Part 2\n",
    "We can write $Q^Tb = y$\n",
    "which makes the equations:\n",
    "\\begin{equation}\n",
    "Rx=y\n",
    "\\end{equation}\n",
    "since R is just an upper triangular matrix,\n",
    "we can just use the back substitution method.\n"
   ]
  },
  {
   "cell_type": "code",
   "execution_count": 44,
   "id": "4fb4d5cd",
   "metadata": {},
   "outputs": [
    {
     "data": {
      "text/plain": [
       "array([ 2.04761905, -2.33333333, -0.19047619])"
      ]
     },
     "execution_count": 44,
     "metadata": {},
     "output_type": "execute_result"
    }
   ],
   "source": [
    "from numpy import linalg as la\n",
    "import numpy as np\n",
    "def mag(xs):\n",
    "    return np.sqrt(np.sum(xs*xs))\n",
    "def qrdec(A):\n",
    "    n = A.shape[0]\n",
    "    Ap = np.copy(A)\n",
    "    Q = np.zeros((n,n))\n",
    "    R = np.zeros((n,n))\n",
    "    for j in range(n):\n",
    "        for i in range(j):\n",
    "            R[i,j] = Q[:,i]@A[:,j]\n",
    "            Ap[:,j] -= R[i,j]*Q[:,i]\n",
    "        R[j,j] = mag(Ap[:,j])\n",
    "        Q[:,j] = Ap[:,j]/R[j,j]\n",
    "    return Q, R\n",
    "def solve(A,b):\n",
    "    R=qrdec(A)[1]\n",
    "    y=qrdec(A)[0].transpose()@b\n",
    "    x=np.zeros(y.shape)\n",
    "    for i in range (R.shape[0]-1,-1,-1):\n",
    "        x[i]=y[i]\n",
    "        coeff=0\n",
    "        for j in range(i+1,R.shape[0]):\n",
    "            coeff+=R[i][j]*x[j]\n",
    "        x[i]=x[i]-coeff\n",
    "        x[i]=x[i]/R[i][i]\n",
    "    return x\n",
    "matrix_1=np.array([[5.0,2.,3.],[2.,1.,4.],[6.,4.,5.]])\n",
    "b_1=np.array([5.,1.,2.])\n",
    "solve(matrix_1,b_1)            \n"
   ]
  },
  {
   "cell_type": "code",
   "execution_count": 38,
   "id": "0fa6d26e",
   "metadata": {},
   "outputs": [
    {
     "data": {
      "text/plain": [
       "array([ 2.04761905, -2.33333333, -0.19047619])"
      ]
     },
     "execution_count": 38,
     "metadata": {},
     "output_type": "execute_result"
    }
   ],
   "source": [
    "la.solve(matrix_1,b_1)"
   ]
  },
  {
   "cell_type": "code",
   "execution_count": null,
   "id": "9eae568b",
   "metadata": {},
   "outputs": [],
   "source": []
  },
  {
   "cell_type": "code",
   "execution_count": null,
   "id": "ad97b52f",
   "metadata": {},
   "outputs": [],
   "source": []
  }
 ],
 "metadata": {
  "kernelspec": {
   "display_name": "Python 3 (ipykernel)",
   "language": "python",
   "name": "python3"
  },
  "language_info": {
   "codemirror_mode": {
    "name": "ipython",
    "version": 3
   },
   "file_extension": ".py",
   "mimetype": "text/x-python",
   "name": "python",
   "nbconvert_exporter": "python",
   "pygments_lexer": "ipython3",
   "version": "3.9.12"
  }
 },
 "nbformat": 4,
 "nbformat_minor": 5
}
