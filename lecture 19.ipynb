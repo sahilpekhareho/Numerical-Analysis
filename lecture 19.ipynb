{
 "cells": [
  {
   "cell_type": "markdown",
   "id": "ddcda003",
   "metadata": {},
   "source": [
    "Eigenproblem\n",
    "\n",
    "Power method\n",
    "Largest Eigenvalue corresponding to eigenvector.\n",
    "\n",
    "Take an n x n matrix \n",
    "\\begin{align}\n",
    "Av_i=\\lambda_iv_i\n",
    "\\end{align} where $\\lambda$ is non degenerate."
   ]
  },
  {
   "cell_type": "markdown",
   "id": "08e9a72d",
   "metadata": {},
   "source": [
    "for n distinct eigen values:\n",
    "\\begin{equation}\n",
    "V^{-1}AV=\\Lambda\n",
    "\\end{equation}\n",
    "where lambda is the diagonal method."
   ]
  },
  {
   "cell_type": "markdown",
   "id": "d472114a",
   "metadata": {},
   "source": [
    "The other way is the characteristic polynomial:\n",
    "\\begin{equation}\n",
    "|\\lambda I-A|=0\n",
    "\\end{equation}\n",
    "\n",
    "Power Method (Transfer matrix method):\n",
    "\\begin{align}\n",
    "Av_i=\\lambda_iv_i \\\\\n",
    "|\\lambda_0|>|\\lambda_1|>|\\lambda_2|>....>|\\lambda_n-1|>|\\lambda_n|\n",
    "\\end{align}\n",
    "the eigen values are sorted."
   ]
  },
  {
   "cell_type": "markdown",
   "id": "7bbec9d8",
   "metadata": {},
   "source": [
    "We will be applying a power method :\n",
    "\\begin{equation}\n",
    "A \\vec{z^{(0)}}=\\vec{z^{(1)}} \\\\\n",
    "\\vec{z^{(k+1)}}=A \\vec{z^{(k)}} \\\\\n",
    "\\vec{z^{(k)}}=A^k \\vec{z^{(0)}}\n",
    "\\end{equation}\n",
    "\n"
   ]
  },
  {
   "cell_type": "code",
   "execution_count": null,
   "id": "027eb82d",
   "metadata": {},
   "outputs": [],
   "source": []
  }
 ],
 "metadata": {
  "kernelspec": {
   "display_name": "Python 3 (ipykernel)",
   "language": "python",
   "name": "python3"
  },
  "language_info": {
   "codemirror_mode": {
    "name": "ipython",
    "version": 3
   },
   "file_extension": ".py",
   "mimetype": "text/x-python",
   "name": "python",
   "nbconvert_exporter": "python",
   "pygments_lexer": "ipython3",
   "version": "3.9.12"
  }
 },
 "nbformat": 4,
 "nbformat_minor": 5
}
