{
 "cells": [
  {
   "cell_type": "markdown",
   "id": "593dc67f",
   "metadata": {},
   "source": [
    "# Lec 2"
   ]
  },
  {
   "cell_type": "markdown",
   "id": "36de569b",
   "metadata": {},
   "source": [
    "Strings"
   ]
  },
  {
   "cell_type": "code",
   "execution_count": 3,
   "id": "53a441aa",
   "metadata": {},
   "outputs": [
    {
     "data": {
      "text/plain": [
       "'2.71000'"
      ]
     },
     "execution_count": 3,
     "metadata": {},
     "output_type": "execute_result"
    }
   ],
   "source": [
    "str1= 'hello'\n",
    "#this is how u access an element:\n",
    "str1[1:2]\n",
    "#this is how you format strings, the curly brackets act as the place holders\n",
    "a=124\n",
    "#'{0:5d}'.fromat(a)\n",
    "'{0:3d}'.format(a)#d is the digits\n",
    "a=2.71\n",
    "'{0:5.5f}'.format(a)#the 5f is the precision of the floating point"
   ]
  },
  {
   "cell_type": "markdown",
   "id": "1c4c8b1f",
   "metadata": {},
   "source": [
    " lists"
   ]
  },
  {
   "cell_type": "code",
   "execution_count": 5,
   "id": "d49f2e09",
   "metadata": {},
   "outputs": [
    {
     "data": {
      "text/plain": [
       "True"
      ]
     },
     "execution_count": 5,
     "metadata": {},
     "output_type": "execute_result"
    }
   ],
   "source": [
    "list1=[1,2,3,4,5]\n",
    "list1=[1,2,3,4,5,\"apple\"]\n",
    "list1[0] #0th element of the list\n",
    "list2=list1*2#multiplying lists concatenates the list \n",
    "#numpyarrays multiplication multiplies each element\n",
    "3 in list1 #this gives the boolean output by checking if this element is there in the list1\n",
    "#strings are immutable and their elements are not replaceable, requires additional techniques\n",
    "list1=[2,4]\n",
    "list2=list2#shallow copy\n",
    "list2=list1[:]#deep copy shortcut"
   ]
  },
  {
   "cell_type": "markdown",
   "id": "9d0740b2",
   "metadata": {},
   "source": [
    "Tuples"
   ]
  },
  {
   "cell_type": "code",
   "execution_count": 9,
   "id": "e7a5423e",
   "metadata": {},
   "outputs": [
    {
     "name": "stdout",
     "output_type": "stream",
     "text": [
      "4\n"
     ]
    }
   ],
   "source": [
    "#these are also immutable and work well to define constants\n",
    "x=2\n",
    "y=4\n",
    "x,y=y,x\n",
    "a=(x,y)#is a tuple\n",
    "print(x)"
   ]
  },
  {
   "cell_type": "markdown",
   "id": "996e5bba",
   "metadata": {},
   "source": [
    "Loops"
   ]
  },
  {
   "cell_type": "code",
   "execution_count": 25,
   "id": "033883a6",
   "metadata": {},
   "outputs": [
    {
     "name": "stdout",
     "output_type": "stream",
     "text": [
      "0\n",
      "1\n",
      "2\n",
      "3\n",
      "4\n",
      "5\n",
      "6\n",
      "7\n",
      "8\n",
      "9\n",
      "apple banana guava "
     ]
    }
   ],
   "source": [
    "for i in range(10):\n",
    "    print(i)\n",
    "list1=['apple','banana','guava']\n",
    "for fruits in list1:\n",
    "    print(fruits,end=\" \")"
   ]
  },
  {
   "cell_type": "code",
   "execution_count": 23,
   "id": "4a1cfb6e",
   "metadata": {},
   "outputs": [
    {
     "name": "stdout",
     "output_type": "stream",
     "text": [
      "[1, 1, 2, 3, 5]\n"
     ]
    }
   ],
   "source": [
    "#fibbonacci\n",
    "fib=[1,1]\n",
    "for i in range (2,5):#iterates from 2 to 5\n",
    "    fib.append(fib[i-1]+fib[i-2])\n",
    "print(fib)"
   ]
  },
  {
   "cell_type": "code",
   "execution_count": 31,
   "id": "73ed4c3e",
   "metadata": {},
   "outputs": [
    {
     "name": "stdout",
     "output_type": "stream",
     "text": [
      "1   1  2 3 5 "
     ]
    }
   ],
   "source": [
    "a,b=1,1\n",
    "print(a,\" \",b,' ',end=\"\")\n",
    "for i in range(2,5):\n",
    "    a,b=b,a+b\n",
    "    print(b,end=\" \")"
   ]
  },
  {
   "cell_type": "code",
   "execution_count": 33,
   "id": "0b21d92a",
   "metadata": {},
   "outputs": [
    {
     "name": "stdout",
     "output_type": "stream",
     "text": [
      "[0, 2, 4, 6, 8, 10]\n"
     ]
    }
   ],
   "source": [
    "#python idioms\n",
    "list1=[]\n",
    "for i in range(6):\n",
    "    list1.append(2*i)\n",
    "    \n",
    "#this is equivalent to :\n",
    "list1=[2*n for n in range(6)]\n",
    "print(list1)\n"
   ]
  },
  {
   "cell_type": "markdown",
   "id": "abfab295",
   "metadata": {},
   "source": [
    "Conditional statements"
   ]
  },
  {
   "cell_type": "code",
   "execution_count": 44,
   "id": "7b6f13bb",
   "metadata": {},
   "outputs": [
    {
     "name": "stdout",
     "output_type": "stream",
     "text": [
      "Not a leap year\n"
     ]
    }
   ],
   "source": [
    "year =1900\n",
    "\n",
    "    \n",
    "if year%400==0:\n",
    "    print(\"is leap year\")\n",
    "elif year%100!=0 and year%4==0:\n",
    "    print(\"is leap year\")\n",
    "else:\n",
    "        print(\"Not a leap year\")"
   ]
  },
  {
   "cell_type": "markdown",
   "id": "6da3b722",
   "metadata": {},
   "source": [
    "Montecarlo Example:\n",
    "    suppose u have a square of side 1 and you throw some darts in it. This can help approximate pi. \n",
    "    you can use a rnadom number generator and then:"
   ]
  },
  {
   "cell_type": "code",
   "execution_count": 63,
   "id": "10422168",
   "metadata": {},
   "outputs": [
    {
     "name": "stdout",
     "output_type": "stream",
     "text": [
      "3.14056\n"
     ]
    }
   ],
   "source": [
    "def picalculator(n)\n",
    "    success=0\n",
    "    import random\n",
    "    for n in range(n):\n",
    "        x=random.random()\n",
    "        y=random.random()\n",
    "        if (x**2) + (y**2) <=1:\n",
    "            success = success+1\n",
    "    print(4*success/100000)"
   ]
  },
  {
   "cell_type": "code",
   "execution_count": 66,
   "id": "613a5d34",
   "metadata": {},
   "outputs": [],
   "source": [
    "def kroneckerdelta(i,j):\n",
    "    if i==j:\n",
    "        return 1\n",
    "    else:\n",
    "        return 0"
   ]
  },
  {
   "cell_type": "code",
   "execution_count": 67,
   "id": "2769c1ce",
   "metadata": {},
   "outputs": [
    {
     "data": {
      "text/plain": [
       "0"
      ]
     },
     "execution_count": 67,
     "metadata": {},
     "output_type": "execute_result"
    }
   ],
   "source": [
    "kroneckerdelta(1,2)"
   ]
  },
  {
   "cell_type": "code",
   "execution_count": null,
   "id": "792117a4",
   "metadata": {},
   "outputs": [],
   "source": []
  }
 ],
 "metadata": {
  "kernelspec": {
   "display_name": "Python 3 (ipykernel)",
   "language": "python",
   "name": "python3"
  },
  "language_info": {
   "codemirror_mode": {
    "name": "ipython",
    "version": 3
   },
   "file_extension": ".py",
   "mimetype": "text/x-python",
   "name": "python",
   "nbconvert_exporter": "python",
   "pygments_lexer": "ipython3",
   "version": "3.9.12"
  }
 },
 "nbformat": 4,
 "nbformat_minor": 5
}
