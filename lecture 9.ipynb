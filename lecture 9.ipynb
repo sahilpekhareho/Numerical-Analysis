{
 "cells": [
  {
   "cell_type": "markdown",
   "id": "135ca54d",
   "metadata": {},
   "source": [
    "Dictionaries"
   ]
  },
  {
   "cell_type": "code",
   "execution_count": 3,
   "id": "387234bb",
   "metadata": {},
   "outputs": [
    {
     "name": "stdout",
     "output_type": "stream",
     "text": [
      "120\n",
      "120\n"
     ]
    }
   ],
   "source": [
    "height={\"Burj Khalifa\":120,\"One world trade center\":541.31,\"siddiq trade\":210}\n",
    "print(height.get(\"Burj Khalifa\"))\n",
    "print(height[\"Burj Khalifa\"])"
   ]
  },
  {
   "cell_type": "code",
   "execution_count": 8,
   "id": "69285810",
   "metadata": {},
   "outputs": [
    {
     "data": {
      "text/plain": [
       "True"
      ]
     },
     "execution_count": 8,
     "metadata": {},
     "output_type": "execute_result"
    }
   ],
   "source": [
    "String=\"The quick brown fox jumps over the lazy dog\"\n",
    "set(String.lower())>=set(\"abcdefghijklmnopqrstuvwxyz\")#check if it is a panagram"
   ]
  },
  {
   "cell_type": "markdown",
   "id": "cd4e9b09",
   "metadata": {},
   "source": [
    "Errors Using try catch except\n"
   ]
  },
  {
   "cell_type": "code",
   "execution_count": 13,
   "id": "7b74b629",
   "metadata": {},
   "outputs": [
    {
     "name": "stdout",
     "output_type": "stream",
     "text": [
      "1.0\n",
      "Division by zero not allowed\n",
      "None\n"
     ]
    }
   ],
   "source": [
    "from math import sin,cos,tan,pi\n",
    "def recip(x):\n",
    "    try:\n",
    "        ans=1.0/x\n",
    "        return ans\n",
    "    except ZeroDivisionError:\n",
    "            print(\"Division by zero not allowed\")\n",
    "print(recip(1))\n",
    "def sinc(x):\n",
    "    try:\n",
    "        sin(x)/x\n",
    "    except ZeroDivisionError:\n",
    "            print(\"Division by zero not allowed\")\n",
    "print(sinc(0))     "
   ]
  },
  {
   "cell_type": "code",
   "execution_count": 17,
   "id": "447821f9",
   "metadata": {},
   "outputs": [
    {
     "ename": "SyntaxError",
     "evalue": "invalid syntax (1992401531.py, line 6)",
     "output_type": "error",
     "traceback": [
      "\u001b[1;36m  Input \u001b[1;32mIn [17]\u001b[1;36m\u001b[0m\n\u001b[1;33m    except ValueError:\u001b[0m\n\u001b[1;37m    ^\u001b[0m\n\u001b[1;31mSyntaxError\u001b[0m\u001b[1;31m:\u001b[0m invalid syntax\n"
     ]
    }
   ],
   "source": [
    "def pow(x,y):\n",
    "    try:\n",
    "        if(x==0 and y==0):\n",
    "            raise ValueError(\"Both numbers cant be zero\")"
   ]
  },
  {
   "cell_type": "code",
   "execution_count": 32,
   "id": "4d1a00bb",
   "metadata": {},
   "outputs": [],
   "source": [
    "mobydick=open(\"2701-0.txt\",\"r\",encoding=\"utf-8\")\n",
    "test_file=open(\"testfile.txt\",'w',encoding='utf-8')\n",
    "wordcount={}\n",
    "for line in mobydick:\n",
    "      if \"*** START OF THE PROJECT GUTENBERG EBOOK MOBY-DICK; OR THE WHALE ***\" in line:\n",
    "        break    \n",
    "for line in mobydick:\n",
    "    if \"*** END OF THE PROJECT GUTENBERG EBOOK MOBY-DICK; OR THE WHALE ***\" in line :\n",
    "        break\n",
    "    line=line.strip().lower()\n",
    "    line=line.replace('&','and').replace('--',' ').replace('\\'','')\n",
    "    for c in '.,-\\\"\\'?!:;()*[]_“”’—':\n",
    "        line =line.replace(c,'')\n",
    "    test_file.write(line+\"\\n\") \n",
    "    words = line.split(' ')\n",
    "    #test_file.write(word+'\\n')\n",
    "    for word in words:\n",
    "        if not word:\n",
    "            continue\n",
    "        try:\n",
    "            wordcount[word]+=1\n",
    "        except KeyError:\n",
    "            wordcount[word]=1\n",
    "wc=[]\n",
    "for k,v in wordcount.items():\n",
    "    wc.append((v,k))\n",
    "for j in range (len(wc)):\n",
    "    test_file.write(str(wc[j][1])+\"     \"+str(wc[j][0])+\"\\n\")\n",
    "    \n",
    "\n",
    "    \n",
    "test_file.close()\n",
    "mobydick.close()"
   ]
  },
  {
   "cell_type": "code",
   "execution_count": 19,
   "id": "0422f5a2",
   "metadata": {},
   "outputs": [
    {
     "ename": "ValueError",
     "evalue": "I/O operation on closed file.",
     "output_type": "error",
     "traceback": [
      "\u001b[1;31m---------------------------------------------------------------------------\u001b[0m",
      "\u001b[1;31mValueError\u001b[0m                                Traceback (most recent call last)",
      "Input \u001b[1;32mIn [19]\u001b[0m, in \u001b[0;36m<cell line: 1>\u001b[1;34m()\u001b[0m\n\u001b[1;32m----> 1\u001b[0m \u001b[38;5;28;01mfor\u001b[39;00m line \u001b[38;5;129;01min\u001b[39;00m mobydick:\n\u001b[0;32m      2\u001b[0m       \u001b[38;5;28;01mif\u001b[39;00m \u001b[38;5;124m\"\u001b[39m\u001b[38;5;124m*** START OF THE PROJECT GUTENBERG EBOOK MOBY-DICK; OR THE WHALE ***\u001b[39m\u001b[38;5;124m\"\u001b[39m:\n\u001b[0;32m      3\u001b[0m         \u001b[38;5;28;01mbreak\u001b[39;00m\n",
      "\u001b[1;31mValueError\u001b[0m: I/O operation on closed file."
     ]
    }
   ],
   "source": [
    "for line in mobydick:\n",
    "      if \"*** START OF THE PROJECT GUTENBERG EBOOK MOBY-DICK; OR THE WHALE ***\":\n",
    "        break\n",
    "wordcount={}\n",
    "for line in mobydick:\n",
    "    \n",
    "    if \"*** END OF THE PROJECT GUTENBERG EBOOK MOBY-DICK; OR THE WHALE ***\":\n",
    "        break\n",
    "        line = line.strip().lower()\n",
    "        line=line.replace('--','').replace('\\'s','').replace('&','and')\n",
    "        for c in '!?\":;,()’.*[]':\n",
    "            line=line.repace(c,'')\n",
    "        words=line.split(' ')\n",
    "        for word in words:\n",
    "            if not word:\n",
    "                continue\n",
    "                try:\n",
    "                    wordcount[word]+=1\n",
    "                except KeyError:\n",
    "                    wordcount[word]=1"
   ]
  },
  {
   "cell_type": "code",
   "execution_count": null,
   "id": "694fcdc9",
   "metadata": {},
   "outputs": [],
   "source": []
  }
 ],
 "metadata": {
  "kernelspec": {
   "display_name": "Python 3 (ipykernel)",
   "language": "python",
   "name": "python3"
  },
  "language_info": {
   "codemirror_mode": {
    "name": "ipython",
    "version": 3
   },
   "file_extension": ".py",
   "mimetype": "text/x-python",
   "name": "python",
   "nbconvert_exporter": "python",
   "pygments_lexer": "ipython3",
   "version": "3.9.12"
  }
 },
 "nbformat": 4,
 "nbformat_minor": 5
}
