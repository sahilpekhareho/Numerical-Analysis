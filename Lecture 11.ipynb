{
 "cells": [
  {
   "cell_type": "code",
   "execution_count": 7,
   "id": "2b4ec7f7",
   "metadata": {},
   "outputs": [
    {
     "name": "stdout",
     "output_type": "stream",
     "text": [
      "[11  7 19 22 25] [11, 7, 19, 22, 25]\n",
      "5\n",
      "int32\n",
      "[1. 1. 1. 1.]\n"
     ]
    }
   ],
   "source": [
    "L=[11,7,19,22,25]\n",
    "import numpy as np\n",
    "xs=np.array(L)\n",
    "print(xs,L)\n",
    "print(xs.size)\n",
    "print(xs.dtype)\n",
    "print(np.array([1.]*4))"
   ]
  },
  {
   "cell_type": "markdown",
   "id": "b1bd6b80",
   "metadata": {},
   "source": [
    "$x=y$"
   ]
  },
  {
   "cell_type": "code",
   "execution_count": 8,
   "id": "43022b14",
   "metadata": {},
   "outputs": [
    {
     "name": "stdout",
     "output_type": "stream",
     "text": [
      "7\n",
      "[ 7 19]\n",
      "[11  0  0 22 25]\n"
     ]
    }
   ],
   "source": [
    "x= np.array(L,dtype=np.float64)\n",
    "print(xs[1])\n",
    "print(xs[1:3])\n",
    "test=xs[1:3]\n",
    "test[:]=0.0\n",
    "print(xs)\n"
   ]
  },
  {
   "cell_type": "code",
   "execution_count": 12,
   "id": "383363a5",
   "metadata": {},
   "outputs": [
    {
     "name": "stdout",
     "output_type": "stream",
     "text": [
      "[ 3.  8. 15. 24. 35.]\n"
     ]
    }
   ],
   "source": [
    "def f(x):\n",
    "    return x**2.0+2.*x\n",
    "P=[1,2,3,4,5]\n",
    "l=np.array(P)\n",
    "print(f(l))"
   ]
  },
  {
   "cell_type": "markdown",
   "id": "9f584cea",
   "metadata": {},
   "source": [
    "Matrices"
   ]
  },
  {
   "cell_type": "code",
   "execution_count": 30,
   "id": "9f9d85e9",
   "metadata": {},
   "outputs": [
    {
     "name": "stdout",
     "output_type": "stream",
     "text": [
      "[[1, 2, 3, 4], [1, 2, 5, 6], [19, 20, 32, 4], [3, 4, 3, 1]]\n"
     ]
    }
   ],
   "source": [
    "LL=[[1,2,3,4],[1,2,5,6],[19,20,32,4],[3,4,3,1]]\n",
    "print(LL)\n",
    "A=np.array(LL)"
   ]
  },
  {
   "cell_type": "code",
   "execution_count": 26,
   "id": "394c1907",
   "metadata": {},
   "outputs": [
    {
     "name": "stdout",
     "output_type": "stream",
     "text": [
      "20\n",
      "4\n",
      "2\n",
      "(4, 5)\n"
     ]
    }
   ],
   "source": [
    "print(A.size)\n",
    "print(len(A))\n",
    "print(A.ndim)\n",
    "print(A.shape)"
   ]
  },
  {
   "cell_type": "code",
   "execution_count": 52,
   "id": "7054caf4",
   "metadata": {},
   "outputs": [
    {
     "name": "stdout",
     "output_type": "stream",
     "text": [
      "[[ 90  96 102]\n",
      " [216 231 246]\n",
      " [342 366 390]]\n",
      "711\n",
      "[1.5 0.5]\n",
      "[1.4959   1.497874]\n"
     ]
    }
   ],
   "source": [
    "k=np.identity(3)\n",
    "A=np.arange(1,10).reshape(3,3)\n",
    "B=np.arange(11,20).reshape(3,3)\n",
    "#C=A@B\n",
    "C=np.dot(A,B)\n",
    "print(C)\n",
    "print(np.trace(C))\n",
    "from numpy import linalg as la\n",
    "a=np.array([[1,1],[1,1.002]])\n",
    "b=np.array([2,2.001])\n",
    "print(la.solve(a,b))\n",
    "c=np.array([0.9911,-0.4870])\n",
    "v=b-a@c\n",
    "print(v)"
   ]
  },
  {
   "cell_type": "code",
   "execution_count": null,
   "id": "cc674b4c",
   "metadata": {},
   "outputs": [],
   "source": []
  },
  {
   "cell_type": "markdown",
   "id": "2f9e975e",
   "metadata": {},
   "source": [
    "lab pe aati- Allama iqbal f.t. Travis Scott"
   ]
  },
  {
   "cell_type": "code",
   "execution_count": 53,
   "id": "5ec5bea1",
   "metadata": {},
   "outputs": [
    {
     "name": "stdout",
     "output_type": "stream",
     "text": [
      "[1.5 0.5]\n"
     ]
    }
   ],
   "source": [
    "k=np.array([[1,1],[1,1.002]])\n",
    "l=np.array([2,2.001])\n",
    "print(la.solve(k,l))"
   ]
  },
  {
   "cell_type": "code",
   "execution_count": null,
   "id": "aa0a5eac",
   "metadata": {},
   "outputs": [],
   "source": []
  }
 ],
 "metadata": {
  "kernelspec": {
   "display_name": "Python 3 (ipykernel)",
   "language": "python",
   "name": "python3"
  },
  "language_info": {
   "codemirror_mode": {
    "name": "ipython",
    "version": 3
   },
   "file_extension": ".py",
   "mimetype": "text/x-python",
   "name": "python",
   "nbconvert_exporter": "python",
   "pygments_lexer": "ipython3",
   "version": "3.9.12"
  }
 },
 "nbformat": 4,
 "nbformat_minor": 5
}
