{
 "cells": [
  {
   "cell_type": "markdown",
   "id": "66923afa",
   "metadata": {},
   "source": [
    "Heron's method"
   ]
  },
  {
   "cell_type": "code",
   "execution_count": 18,
   "id": "c1f0df50",
   "metadata": {},
   "outputs": [
    {
     "name": "stdout",
     "output_type": "stream",
     "text": [
      "[200000, 100005.293799325, 50013.23393785594, 25027.7865630861, 12556.19665752603, 6362.4200301410665, 3347.61837226548, 1990.081755841303, 1527.0591540001744, 1456.8621582734118]\n"
     ]
    }
   ],
   "source": [
    "import math as m\n",
    "xold=200000\n",
    "n=2117519.73\n",
    "xlist=[]\n",
    "while True:\n",
    "        xnew=0.5*(xold+(n/xold))\n",
    "        if m.isclose(xold,xnew,abs_tol=0.01):\n",
    "            break\n",
    "        xlist.append(xold)\n",
    "        xold=xnew\n",
    "print(xlist)"
   ]
  },
  {
   "cell_type": "markdown",
   "id": "1e6ffd2e",
   "metadata": {},
   "source": [
    "Look function"
   ]
  },
  {
   "cell_type": "code",
   "execution_count": 20,
   "id": "37ccb19e",
   "metadata": {},
   "outputs": [],
   "source": [
    "def look(target,names):\n",
    "    for name in names:\n",
    "        if name == target:\n",
    "            val = name\n",
    "            break\n",
    "    else:\n",
    "         val = None\n",
    "    return val\n"
   ]
  },
  {
   "cell_type": "code",
   "execution_count": 23,
   "id": "4eadefcf",
   "metadata": {},
   "outputs": [
    {
     "name": "stdout",
     "output_type": "stream",
     "text": [
      "apple\n"
     ]
    }
   ],
   "source": [
    "names=[\"apple\",\"banana\",\"grapes\"]\n",
    "print(look('apple',names))"
   ]
  },
  {
   "cell_type": "markdown",
   "id": "cabbbfa7",
   "metadata": {},
   "source": [
    "Approximate exp using a taylor series"
   ]
  },
  {
   "cell_type": "code",
   "execution_count": 49,
   "id": "fc3dc602",
   "metadata": {},
   "outputs": [
    {
     "name": "stdout",
     "output_type": "stream",
     "text": [
      "44051.931562915925 34.0\n",
      "22026.465794806718\n"
     ]
    },
    {
     "name": "stderr",
     "output_type": "stream",
     "text": [
      "C:\\Users\\danie\\AppData\\Local\\Temp\\ipykernel_14656\\4058991017.py:7: DeprecationWarning: Using factorial() with floats is deprecated\n",
      "  z+=((x**n)/m.factorial(n))\n"
     ]
    }
   ],
   "source": [
    "x=10\n",
    "n=1.0\n",
    "sum=1.0\n",
    "z=0.0\n",
    "#while True:\n",
    " #   zold=z\n",
    "  #  z+=((x**n)/m.factorial(n))\n",
    "  #  if m.isclose(zold,z,abs_tol=0.0001):\n",
    "   #     break\n",
    "    #n+=1\n",
    "    \n",
    "#print(z,n)\n",
    "#print(m.exp(10))"
   ]
  },
  {
   "cell_type": "code",
   "execution_count": 73,
   "id": "dbe9babc",
   "metadata": {},
   "outputs": [
    {
     "name": "stdout",
     "output_type": "stream",
     "text": [
      "5.296383326417903e-05 34\n",
      "4.5399929762484854e-05\n"
     ]
    }
   ],
   "source": [
    "summ=1\n",
    "term=1\n",
    "x=-10\n",
    "n=1\n",
    "while True:\n",
    "    oldsum=summ\n",
    "    summ+=term*(x/n)\n",
    "    if m.isclose(oldsum,summ,abs_tol=0.0001):\n",
    "        break\n",
    "    term=((x**n)/m.factorial(n))\n",
    "    n+=1\n",
    "print(summ,n)\n",
    "print(m.exp(-10))"
   ]
  },
  {
   "cell_type": "markdown",
   "id": "708a6414",
   "metadata": {},
   "source": [
    "Kahan SUM"
   ]
  },
  {
   "cell_type": "code",
   "execution_count": null,
   "id": "ef2f302c",
   "metadata": {},
   "outputs": [],
   "source": [
    "def kahansum(xs):\n",
    "    s=0\n",
    "    e=0\n",
    "    for x in xs:\n",
    "        temp = s\n",
    "        y=x+e\n",
    "        s=temp + y\n",
    "        e =(temp-s)+y\n",
    "        return s\n",
    "        \n",
    "listnum = [1.e20,1.e^-20,1]\n",
    "\n"
   ]
  }
 ],
 "metadata": {
  "kernelspec": {
   "display_name": "Python 3 (ipykernel)",
   "language": "python",
   "name": "python3"
  },
  "language_info": {
   "codemirror_mode": {
    "name": "ipython",
    "version": 3
   },
   "file_extension": ".py",
   "mimetype": "text/x-python",
   "name": "python",
   "nbconvert_exporter": "python",
   "pygments_lexer": "ipython3",
   "version": "3.9.12"
  }
 },
 "nbformat": 4,
 "nbformat_minor": 5
}
